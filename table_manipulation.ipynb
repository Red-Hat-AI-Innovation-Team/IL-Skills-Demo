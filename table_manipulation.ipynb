{
 "cells": [
  {
   "cell_type": "code",
   "execution_count": 1,
   "metadata": {},
   "outputs": [],
   "source": [
    "%load_ext autoreload\n",
    "%autoreload 2"
   ]
  },
  {
   "cell_type": "markdown",
   "metadata": {},
   "source": [
    "# Markdown Table Manipulation Skills\n",
    "\n",
    "Modern enterprises rely on structured data to drive decisions across operations, HR, product, and sales. But real-world data is rarely clean. Tables are often inconsistent, incomplete, or split across sources. Analysts and engineers spend countless hours fixing formatting issues, merging data, and applying business logic manually.\n",
    "\n",
    "This project teaches a language model how to understand, clean, manipulate, and reason over markdown tables—turning messy or fragmented tabular inputs into clean, analysis-ready markdown outputs that can be dropped into dashboards, reports, or downstream systems.\n",
    "\n",
    "We do this using InstructLab, by providing examples of real-world table tasks that require reasoning, formatting precision, and consistency.\n",
    "\n",
    "\n",
    "These tasks develop a model’s capabilities in:\n",
    "* Cleaning: Normalize inconsistent entries (e.g., “USA”, “U.S.”, “United States” → “US”)\n",
    "* Filtering: Apply multi-column conditions (e.g., Progress < 60% and Budget < 100k)\n",
    "* Computation: Derive new columns from formulas (e.g., Adjusted Revenue = Revenue × Multiplier)\n",
    "* Joining: Merge data from multiple markdown tables using a shared key\n",
    "* Classification: Infer labels like “Seniority” from unstructured title strings\n",
    "* Standardization: Enforce markdown formatting, column consistency, and data integrity\n",
    "\n",
    "\n",
    "Task Examples Include:\n",
    "1.\tApplying Rules Across Columns\n",
    "\n",
    "    Derive new columns by applying conditional logic to existing data. Examples include assigning statuses, flags, or labels based on thresholds, categories, or rule-based formulas.\n",
    "\n",
    "2.  Cleaning and Normalizing Tabular Data\n",
    "\n",
    "    Standardize inconsistent entries such as location names, department labels, or text casing to ensure consistency across rows—essential for reliable analysis or joins.\n",
    "\n",
    "3. \tInferring Categorical Labels from Text\n",
    "    \n",
    "    Extract or classify values (e.g., seniority, department type, status) from semi-structured strings using pattern recognition or keyword-based inference.\n",
    "\n",
    "4. \tMerging and Enriching Data Across Tables\n",
    "    \n",
    "    Perform relational joins using keys like ID or Region, and enhance the dataset by combining fields from multiple sources.\n",
    "\n",
    "5.  Retrieval and Filtering From the Table\n",
    "\n",
    "    Retrieve specific rows or columns based on conditions or patterns, useful for ad-hoc queries or filtering out irrelevant data.\n"
   ]
  },
  {
   "cell_type": "markdown",
   "metadata": {},
   "source": [
    "## 🧑‍🏫 Step 1: Set Up the Teacher Model\n",
    "\n",
    "This demo expects an openai compatible endpoint. You can use your favorite inference server like vLLM, HFInferenceServer, LlamaStack, etc. For more details on how to setup an inference server using vLLM, please refer to the [README](README.md).\n",
    "\n",
    "For this demo we will use Llama-3.3-70B-Instruct as our teacher model.\n",
    "\n",
    "#### Let's test the connection"
   ]
  },
  {
   "cell_type": "code",
   "execution_count": 2,
   "metadata": {},
   "outputs": [
    {
     "name": "stdout",
     "output_type": "stream",
     "text": [
      "Connection successful! meta-llama/Llama-3.3-70B-Instruct: Hello. How can I help you today?\n"
     ]
    }
   ],
   "source": [
    "from openai import OpenAI\n",
    "\n",
    "openai_api_key = \"EMPTY\" # replace with your inference server api key\n",
    "openai_api_base = \"http://0.0.0.0:8000/v1\" # replace with your inference server endpoint\n",
    "\n",
    "\n",
    "client = OpenAI(\n",
    "    api_key=openai_api_key,\n",
    "    base_url=openai_api_base,\n",
    ")\n",
    "\n",
    "models = client.models.list()\n",
    "teacher_model = models.data[0].id\n",
    "\n",
    "# Test the connection with a simple completion\n",
    "response = client.chat.completions.create(\n",
    "    model=teacher_model,\n",
    "    messages=[{\"role\": \"user\", \"content\": \"Hello!\"}],\n",
    "    temperature=0.0,\n",
    "    max_tokens=10\n",
    ")\n",
    "completion = response.choices[0].message.content\n",
    "\n",
    "print(f\"Connection successful! {teacher_model}: {completion}\")"
   ]
  },
  {
   "cell_type": "markdown",
   "metadata": {},
   "source": [
    "## ✍️ Step 2: Provide Custom Examples\n",
    "\n",
    "As outlined in the LAB paper, the first step is to provide a small number of **seed examples** (typically 5) to bootstrap the skill. These examples are passed into the generation pipeline as input and are stored in a `qna.yaml` file.\n",
    "\n",
    "For this demo, we’ll use the pre-populated seed file located at: [table_manipulation_qna.yaml](seed_data/table_manipulation_qna.yaml)\n",
    "\n",
    "Lets convert the yaml into a jsonl file which can be used to bootstrap the skill."
   ]
  },
  {
   "cell_type": "code",
   "execution_count": 3,
   "metadata": {},
   "outputs": [
    {
     "name": "stderr",
     "output_type": "stream",
     "text": [
      "/home/lab/.conda/envs/ilsdg/lib/python3.11/site-packages/tqdm/auto.py:21: TqdmWarning: IProgress not found. Please update jupyter and ipywidgets. See https://ipywidgets.readthedocs.io/en/stable/user_install.html\n",
      "  from .autonotebook import tqdm as notebook_tqdm\n"
     ]
    }
   ],
   "source": [
    "import yaml\n",
    "from datasets import Dataset\n",
    "\n",
    "def convert_yaml_to_jsonl(yaml_path):\n",
    "    # Load YAML file\n",
    "    with open(yaml_path, 'r') as f:\n",
    "        yaml_data = yaml.safe_load(f)\n",
    "    \n",
    "    # Extract examples into list of dicts\n",
    "    examples = []\n",
    "    for example in yaml_data['seed_examples']:\n",
    "        examples.append({\n",
    "            'task_description': yaml_data['task_description'],\n",
    "            'seed_question': example['question'],\n",
    "            'seed_response': example['answer']\n",
    "        })\n",
    "    \n",
    "    # Convert to HF Dataset\n",
    "    dataset = Dataset.from_list(examples)\n",
    "    return dataset\n",
    "\n",
    "# Load and convert the seed data\n",
    "seed_data = convert_yaml_to_jsonl('seed_data/table_manipulation_qna.yaml')"
   ]
  },
  {
   "cell_type": "code",
   "execution_count": 4,
   "metadata": {},
   "outputs": [
    {
     "data": {
      "text/html": [
       "<pre style=\"white-space:pre;overflow-x:auto;line-height:normal;font-family:Menlo,'DejaVu Sans Mono',consolas,'Courier New',monospace\">╭─────────────────────────────────────────────── Seed Data Example ───────────────────────────────────────────────╮\n",
       "│ <span style=\"font-weight: bold\">task_description:</span>                                                                                               │\n",
       "│                                                                                                                 │\n",
       "│ Perform advanced table manipulation, including cleaning, joining, inferring values, and computing derived       │\n",
       "│ columns based on complex rules.                                                                                 │\n",
       "│                                                                                                                 │\n",
       "│ <span style=\"font-weight: bold\">seed_question:</span>                                                                                                  │\n",
       "│                                                                                                                 │\n",
       "│ | Project | Budget (USD) | Progress (%) | Phase     |                                                           │\n",
       "│ |---------|--------------|--------------|-----------|                                                           │\n",
       "│ | Mercury | 120000       | 85           | Alpha     |                                                           │\n",
       "│ | Venus   | 95000        | 78           | Alpha     |                                                           │\n",
       "│ | Earth   | 87000        | 52           | Beta      |                                                           │\n",
       "│ | Mars    | 110000       | 45           | Beta      |                                                           │\n",
       "│ | Jupiter | 78000        | 66           | Gamma     |                                                           │\n",
       "│                                                                                                                 │\n",
       "│ Question: Add a new column 'Status' using these rules:                                                          │\n",
       "│ - If Budget &gt; 100k and Progress ≥ 80%, mark as \"On Track\"                                                       │\n",
       "│ - If Budget &lt; 100k but Progress ≥ 60%, mark as \"Risk: Underfunded\"                                              │\n",
       "│ - If Progress &lt; 60%, mark as \"Behind\"                                                                           │\n",
       "│                                                                                                                 │\n",
       "│ <span style=\"font-weight: bold\">seed_response:</span>                                                                                                  │\n",
       "│                                                                                                                 │\n",
       "│ | Project | Budget (USD) | Progress (%) | Phase | Status            |                                           │\n",
       "│ |---------|--------------|--------------|--------|-------------------|                                          │\n",
       "│ | Mercury | 120000       | 85           | Alpha | On Track          |                                           │\n",
       "│ | Venus   | 95000        | 78           | Alpha | Risk: Underfunded |                                           │\n",
       "│ | Earth   | 87000        | 52           | Beta  | Behind            |                                           │\n",
       "│ | Mars    | 110000       | 45           | Beta  | Behind            |                                           │\n",
       "│ | Jupiter | 78000        | 66           | Gamma | Risk: Underfunded |                                           │\n",
       "╰─────────────────────────────────────────────────────────────────────────────────────────────────────────────────╯\n",
       "</pre>\n"
      ],
      "text/plain": [
       "╭─────────────────────────────────────────────── Seed Data Example ───────────────────────────────────────────────╮\n",
       "│ \u001b[1mtask_description:\u001b[0m                                                                                               │\n",
       "│                                                                                                                 │\n",
       "│ Perform advanced table manipulation, including cleaning, joining, inferring values, and computing derived       │\n",
       "│ columns based on complex rules.                                                                                 │\n",
       "│                                                                                                                 │\n",
       "│ \u001b[1mseed_question:\u001b[0m                                                                                                  │\n",
       "│                                                                                                                 │\n",
       "│ | Project | Budget (USD) | Progress (%) | Phase     |                                                           │\n",
       "│ |---------|--------------|--------------|-----------|                                                           │\n",
       "│ | Mercury | 120000       | 85           | Alpha     |                                                           │\n",
       "│ | Venus   | 95000        | 78           | Alpha     |                                                           │\n",
       "│ | Earth   | 87000        | 52           | Beta      |                                                           │\n",
       "│ | Mars    | 110000       | 45           | Beta      |                                                           │\n",
       "│ | Jupiter | 78000        | 66           | Gamma     |                                                           │\n",
       "│                                                                                                                 │\n",
       "│ Question: Add a new column 'Status' using these rules:                                                          │\n",
       "│ - If Budget > 100k and Progress ≥ 80%, mark as \"On Track\"                                                       │\n",
       "│ - If Budget < 100k but Progress ≥ 60%, mark as \"Risk: Underfunded\"                                              │\n",
       "│ - If Progress < 60%, mark as \"Behind\"                                                                           │\n",
       "│                                                                                                                 │\n",
       "│ \u001b[1mseed_response:\u001b[0m                                                                                                  │\n",
       "│                                                                                                                 │\n",
       "│ | Project | Budget (USD) | Progress (%) | Phase | Status            |                                           │\n",
       "│ |---------|--------------|--------------|--------|-------------------|                                          │\n",
       "│ | Mercury | 120000       | 85           | Alpha | On Track          |                                           │\n",
       "│ | Venus   | 95000        | 78           | Alpha | Risk: Underfunded |                                           │\n",
       "│ | Earth   | 87000        | 52           | Beta  | Behind            |                                           │\n",
       "│ | Mars    | 110000       | 45           | Beta  | Behind            |                                           │\n",
       "│ | Jupiter | 78000        | 66           | Gamma | Risk: Underfunded |                                           │\n",
       "╰─────────────────────────────────────────────────────────────────────────────────────────────────────────────────╯\n"
      ]
     },
     "metadata": {},
     "output_type": "display_data"
    }
   ],
   "source": [
    "from rich import print\n",
    "from rich.panel import Panel\n",
    "\n",
    "print(Panel(\n",
    "    \"\\n\\n\".join(f\"[bold]{k}:[/bold] \\n\\n{v}\" for k,v in seed_data[0].items()),\n",
    "    title=\"Seed Data Example\"\n",
    "))"
   ]
  },
  {
   "cell_type": "markdown",
   "metadata": {},
   "source": [
    "## 🚀 Step 3: Generate Synthetic Data\n",
    "\n",
    "Now that we have our seed data ready, we can use LAB’s Skill Data Generator to create **high-quality synthetic training examples** for our custom skill.\n",
    "\n",
    "This step leverages a predefined **flow configuration** that encodes how seed examples are expanded — by generating new contexts, questions, and responses, and filtering them for quality.\n",
    "\n",
    "In this demo, we'll use the `flows/table_manipulation.yaml` pipeline to generate synthetic data."
   ]
  },
  {
   "cell_type": "code",
   "execution_count": 5,
   "metadata": {},
   "outputs": [],
   "source": [
    "import os\n",
    "from instructlab.sdg.pipeline import Pipeline, PipelineContext\n",
    "from blocks import *\n",
    "\n",
    "ctx = PipelineContext(client=client, model_family=\"llama\", model_id=teacher_model)\n",
    "skills_pipe = Pipeline.from_file(ctx, os.path.join(os.getcwd(), \"flows/table_manipulation.yaml\"))"
   ]
  },
  {
   "cell_type": "code",
   "execution_count": 6,
   "metadata": {},
   "outputs": [
    {
     "name": "stderr",
     "output_type": "stream",
     "text": [
      "Map (num_proc=8): 100%|██████████| 8/8 [00:00<00:00, 61.81 examples/s]\n",
      "Filter (num_proc=8): 100%|██████████| 8/8 [00:00<00:00, 77.55 examples/s]\n",
      "Map (num_proc=8): 100%|██████████| 8/8 [00:00<00:00, 67.11 examples/s]\n",
      "Filter (num_proc=8): 100%|██████████| 8/8 [00:00<00:00, 77.35 examples/s]\n",
      "Map (num_proc=8): 100%|██████████| 8/8 [00:00<00:00, 67.32 examples/s]\n",
      "Filter (num_proc=8): 100%|██████████| 8/8 [00:00<00:00, 77.82 examples/s]\n",
      "Map (num_proc=8): 100%|██████████| 8/8 [00:00<00:00, 63.43 examples/s]\n",
      "Filter (num_proc=8): 100%|██████████| 8/8 [00:00<00:00, 74.63 examples/s]\n",
      "Map (num_proc=8): 100%|██████████| 8/8 [00:00<00:00, 63.70 examples/s]\n",
      "Filter (num_proc=8): 100%|██████████| 8/8 [00:00<00:00, 76.01 examples/s]\n",
      "Map (num_proc=8): 100%|██████████| 8/8 [00:00<00:00, 60.67 examples/s]\n",
      "Filter (num_proc=8): 100%|██████████| 8/8 [00:00<00:00, 75.22 examples/s]\n",
      "Map (num_proc=8): 100%|██████████| 8/8 [00:00<00:00, 63.63 examples/s]\n",
      "Filter (num_proc=8): 100%|██████████| 8/8 [00:00<00:00, 76.77 examples/s]\n",
      "Map (num_proc=8): 100%|██████████| 8/8 [00:00<00:00, 65.02 examples/s]\n",
      "Filter (num_proc=8): 100%|██████████| 8/8 [00:00<00:00, 73.13 examples/s]\n",
      "Map (num_proc=8): 100%|██████████| 8/8 [00:00<00:00, 65.03 examples/s]\n",
      "Filter (num_proc=8): 100%|██████████| 8/8 [00:00<00:00, 79.19 examples/s]\n",
      "Map (num_proc=8): 100%|██████████| 8/8 [00:00<00:00, 64.11 examples/s]\n",
      "Filter (num_proc=8): 100%|██████████| 8/8 [00:00<00:00, 76.34 examples/s]\n",
      "Map (num_proc=8): 100%|██████████| 8/8 [00:00<00:00, 65.90 examples/s]\n",
      "Filter (num_proc=8): 100%|██████████| 8/8 [00:00<00:00, 79.43 examples/s]\n",
      "Map (num_proc=8): 100%|██████████| 8/8 [00:00<00:00, 67.84 examples/s]\n",
      "Filter (num_proc=8): 100%|██████████| 8/8 [00:00<00:00, 77.04 examples/s]\n",
      "num_proc must be <= 6. Reducing num_proc to 6 for dataset of size 6.\n",
      "Map (num_proc=6): 100%|██████████| 6/6 [00:00<00:00, 52.79 examples/s]\n",
      "num_proc must be <= 6. Reducing num_proc to 6 for dataset of size 6.\n",
      "Filter (num_proc=6): 100%|██████████| 6/6 [00:00<00:00, 58.16 examples/s]\n",
      "Map (num_proc=8): 100%|██████████| 8/8 [00:00<00:00, 65.49 examples/s]\n",
      "Filter (num_proc=8): 100%|██████████| 8/8 [00:00<00:00, 15.68 examples/s]\n",
      "Map (num_proc=8): 100%|██████████| 8/8 [00:00<00:00, 67.01 examples/s]\n",
      "Filter (num_proc=8): 100%|██████████| 8/8 [00:00<00:00, 75.27 examples/s]\n",
      "Map (num_proc=8): 100%|██████████| 8/8 [00:00<00:00, 66.76 examples/s]\n",
      "Filter (num_proc=8): 100%|██████████| 8/8 [00:00<00:00, 74.72 examples/s]\n",
      "Map (num_proc=8): 100%|██████████| 8/8 [00:00<00:00, 63.40 examples/s]\n",
      "Filter (num_proc=8): 100%|██████████| 8/8 [00:00<00:00, 75.92 examples/s]\n",
      "Map (num_proc=8): 100%|██████████| 8/8 [00:00<00:00, 64.31 examples/s]\n",
      "Filter (num_proc=8): 100%|██████████| 8/8 [00:00<00:00, 76.56 examples/s]\n",
      "num_proc must be <= 5. Reducing num_proc to 5 for dataset of size 5.\n",
      "Map (num_proc=5): 100%|██████████| 5/5 [00:00<00:00, 40.27 examples/s]\n",
      "num_proc must be <= 5. Reducing num_proc to 5 for dataset of size 5.\n",
      "Filter (num_proc=5): 100%|██████████| 5/5 [00:00<00:00, 50.49 examples/s]\n"
     ]
    }
   ],
   "source": [
    "generated_data = skills_pipe.generate(seed_data)"
   ]
  },
  {
   "cell_type": "markdown",
   "metadata": {},
   "source": [
    "## 🔍 Step 4: Explore and Validate the Synthetically Generated Data\n",
    "\n",
    "Once the skill generation pipeline has been executed, the output is a set of **synthetically generated examples** — new context-question-response triples that follow the same structure as the seed data but are expanded and refined by the teacher model.\n",
    "\n",
    "Below is an example of one generated entry:"
   ]
  },
  {
   "cell_type": "code",
   "execution_count": 8,
   "metadata": {},
   "outputs": [
    {
     "data": {
      "text/html": [
       "<pre style=\"white-space:pre;overflow-x:auto;line-height:normal;font-family:Menlo,'DejaVu Sans Mono',consolas,'Courier New',monospace\">╭─────────────────────────────────────────────────────────────────────────────────────────────────────────────────╮\n",
       "│ <span style=\"color: #ffaf00; text-decoration-color: #ffaf00; font-weight: bold\">Question:</span>                                                                                                       │\n",
       "│ **Customer Table**                                                                                              │\n",
       "│ | Customer ID | Name       | Country        | Age |                                                             │\n",
       "│ |-------------|------------|----------------|-----|                                                             │\n",
       "│ | C001        | John Smith | United States  | 25  |                                                             │\n",
       "│ | C002        | Jane Doe   | Canada         | 30  |                                                             │\n",
       "│ | C003        | Bob Brown  | UK             | 35  |                                                             │\n",
       "│ | C004        | Alice Johnson | US            | 20  |                                                           │\n",
       "│ | C005        | Mike Davis  | Australia      | 40  |                                                            │\n",
       "│                                                                                                                 │\n",
       "│ **Order Table**                                                                                                 │\n",
       "│ | Order ID | Customer ID | Order Date | Total |                                                                 │\n",
       "│ |----------|-------------|------------|-------|                                                                 │\n",
       "│ | O001     | C001        | 2022-01-01 | 100   |                                                                 │\n",
       "│ | O002     | C002        | 2022-01-15 | 200   |                                                                 │\n",
       "│ | O003     | C003        | 2022-02-01 | 50    |                                                                 │\n",
       "│ | O004     | C004        | 2022-03-01 | 150   |                                                                 │\n",
       "│ | O005     | C005        | 2022-04-01 | 250   |                                                                 │\n",
       "│                                                                                                                 │\n",
       "│ Join the tables on Customer ID. Calculate the average order total for each country, and calculate the total     │\n",
       "│ order value for each country.                                                                                   │\n",
       "│                                                                                                                 │\n",
       "│ <span style=\"color: #008000; text-decoration-color: #008000; font-weight: bold\">Response:</span>                                                                                                       │\n",
       "│ | Country | Average Order Total | Total Order Value |                                                           │\n",
       "│ |---------|---------------------|-------------------|                                                           │\n",
       "│ | US      | 125.0               | 250               |                                                           │\n",
       "│ | Canada  | 200.0               | 200               |                                                           │\n",
       "│ | UK      | 50.0                | 50                |                                                           │\n",
       "│ | Australia| 250.0              | 250               |                                                           │\n",
       "╰─────────────────────────────────────────────────────────────────────────────────────────────────────────────────╯\n",
       "</pre>\n"
      ],
      "text/plain": [
       "╭─────────────────────────────────────────────────────────────────────────────────────────────────────────────────╮\n",
       "│ \u001b[1;38;5;214mQuestion:\u001b[0m                                                                                                       │\n",
       "│ **Customer Table**                                                                                              │\n",
       "│ | Customer ID | Name       | Country        | Age |                                                             │\n",
       "│ |-------------|------------|----------------|-----|                                                             │\n",
       "│ | C001        | John Smith | United States  | 25  |                                                             │\n",
       "│ | C002        | Jane Doe   | Canada         | 30  |                                                             │\n",
       "│ | C003        | Bob Brown  | UK             | 35  |                                                             │\n",
       "│ | C004        | Alice Johnson | US            | 20  |                                                           │\n",
       "│ | C005        | Mike Davis  | Australia      | 40  |                                                            │\n",
       "│                                                                                                                 │\n",
       "│ **Order Table**                                                                                                 │\n",
       "│ | Order ID | Customer ID | Order Date | Total |                                                                 │\n",
       "│ |----------|-------------|------------|-------|                                                                 │\n",
       "│ | O001     | C001        | 2022-01-01 | 100   |                                                                 │\n",
       "│ | O002     | C002        | 2022-01-15 | 200   |                                                                 │\n",
       "│ | O003     | C003        | 2022-02-01 | 50    |                                                                 │\n",
       "│ | O004     | C004        | 2022-03-01 | 150   |                                                                 │\n",
       "│ | O005     | C005        | 2022-04-01 | 250   |                                                                 │\n",
       "│                                                                                                                 │\n",
       "│ Join the tables on Customer ID. Calculate the average order total for each country, and calculate the total     │\n",
       "│ order value for each country.                                                                                   │\n",
       "│                                                                                                                 │\n",
       "│ \u001b[1;32mResponse:\u001b[0m                                                                                                       │\n",
       "│ | Country | Average Order Total | Total Order Value |                                                           │\n",
       "│ |---------|---------------------|-------------------|                                                           │\n",
       "│ | US      | 125.0               | 250               |                                                           │\n",
       "│ | Canada  | 200.0               | 200               |                                                           │\n",
       "│ | UK      | 50.0                | 50                |                                                           │\n",
       "│ | Australia| 250.0              | 250               |                                                           │\n",
       "╰─────────────────────────────────────────────────────────────────────────────────────────────────────────────────╯\n"
      ]
     },
     "metadata": {},
     "output_type": "display_data"
    },
    {
     "data": {
      "text/html": [
       "<pre style=\"white-space:pre;overflow-x:auto;line-height:normal;font-family:Menlo,'DejaVu Sans Mono',consolas,'Courier New',monospace\"><span style=\"color: #ffffff; text-decoration-color: #ffffff\">───────────────────────────────────────────────────────────────────────────────────────────────────────────────────</span>\n",
       "</pre>\n"
      ],
      "text/plain": [
       "\u001b[97m───────────────────────────────────────────────────────────────────────────────────────────────────────────────────\u001b[0m\n"
      ]
     },
     "metadata": {},
     "output_type": "display_data"
    }
   ],
   "source": [
    "import random\n",
    "from rich.panel import Panel\n",
    "from rich.console import Console\n",
    "\n",
    "console = Console()\n",
    "rand_idx = random.choice(range(len(generated_data)))\n",
    "\n",
    "# Pretty print the generated examples using rich\n",
    "example = generated_data[rand_idx]\n",
    "console.print(Panel.fit(\n",
    "    f\"[bold orange1]Question:[/bold orange1]\\n{example['question']}\\n\\n\" \n",
    "    f\"[bold green]Response:[/bold green]\\n{example['response']}\"\n",
    "))\n",
    "console.rule(style=\"bright_white\")"
   ]
  },
  {
   "cell_type": "markdown",
   "metadata": {},
   "source": [
    "## 🏁 Conclusion\n",
    "\n",
    "In this notebook, we demonstrated how to teach a custom skill to a language model using the InstructLab Skill Data Generator (SDG). Starting from a small set of seed examples, we walked through the full synthetic data generation pipeline — including context creation, question generation, response synthesis, evaluation, and filtering.\n",
    "\n",
    "We explored a real-world use case: Manipulating Markdown Tables, and showed how the LAB framework can automate the generation of high-quality, instructional training data at scale.\n",
    "\n",
    "This approach is especially powerful for procedural or domain-specific tasks where labeled data is scarce but consistent task logic can be modeled. With just a few carefully curated seed examples, you can unlock scalable skill creation and push new capabilities into LLMs with minimal manual effort.\n",
    "\n",
    "You’re now ready to use these synthetic examples for Fine-tuning small models!\n",
    "\n",
    "Next steps?\n",
    "\n",
    "* Try changing the parameters of the flow to see how the generated data changes (e.g. change the num_samples or try generating with different temperature)\n",
    "* Try adapting this pipeline to your own task, domain, or format — whether it’s triaging support tickets, extracting structured data, or following domain-specific workflows. The skills are yours to create."
   ]
  },
  {
   "cell_type": "markdown",
   "metadata": {},
   "source": []
  }
 ],
 "metadata": {
  "kernelspec": {
   "display_name": "ilsdg",
   "language": "python",
   "name": "python3"
  },
  "language_info": {
   "codemirror_mode": {
    "name": "ipython",
    "version": 3
   },
   "file_extension": ".py",
   "mimetype": "text/x-python",
   "name": "python",
   "nbconvert_exporter": "python",
   "pygments_lexer": "ipython3",
   "version": "3.11.12"
  }
 },
 "nbformat": 4,
 "nbformat_minor": 2
}
