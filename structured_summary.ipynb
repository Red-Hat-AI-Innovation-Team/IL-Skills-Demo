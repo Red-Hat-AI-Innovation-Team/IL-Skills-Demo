{
 "cells": [
  {
   "cell_type": "code",
   "execution_count": 1,
   "metadata": {},
   "outputs": [],
   "source": [
    "%load_ext autoreload\n",
    "%autoreload 2"
   ]
  },
  {
   "cell_type": "code",
   "execution_count": 2,
   "metadata": {},
   "outputs": [
    {
     "name": "stdout",
     "output_type": "stream",
     "text": [
      "Connection successful! meta-llama/Llama-3.3-70B-Instruct: Hello. How can I help you today?\n"
     ]
    }
   ],
   "source": [
    "from openai import OpenAI\n",
    "\n",
    "openai_api_key = \"EMPTY\" # replace with your inference server api key\n",
    "openai_api_base = \"http://150.239.209.43:8008/v1\" # replace with your inference server endpoint\n",
    "\n",
    "\n",
    "client = OpenAI(\n",
    "    api_key=openai_api_key,\n",
    "    base_url=openai_api_base,\n",
    ")\n",
    "\n",
    "models = client.models.list()\n",
    "teacher_model = models.data[0].id\n",
    "\n",
    "# Test the connection with a simple completion\n",
    "response = client.chat.completions.create(\n",
    "    model=teacher_model,\n",
    "    messages=[{\"role\": \"user\", \"content\": \"Hello!\"}],\n",
    "    temperature=0.0,\n",
    "    max_tokens=10\n",
    ")\n",
    "completion = response.choices[0].message.content\n",
    "\n",
    "print(f\"Connection successful! {teacher_model}: {completion}\")"
   ]
  },
  {
   "cell_type": "code",
   "execution_count": 3,
   "metadata": {},
   "outputs": [
    {
     "name": "stderr",
     "output_type": "stream",
     "text": [
      "/home/lab/.conda/envs/ilsdg/lib/python3.11/site-packages/tqdm/auto.py:21: TqdmWarning: IProgress not found. Please update jupyter and ipywidgets. See https://ipywidgets.readthedocs.io/en/stable/user_install.html\n",
      "  from .autonotebook import tqdm as notebook_tqdm\n"
     ]
    }
   ],
   "source": [
    "from datasets import load_dataset\n",
    "\n",
    "seed_data = load_dataset(\"json\", data_files=\"seed_data/financial_call_transcripts.jsonl\", split=\"train\")"
   ]
  },
  {
   "cell_type": "code",
   "execution_count": 4,
   "metadata": {},
   "outputs": [
    {
     "data": {
      "text/plain": [
       "{'conversation_id': 'c47a92e006b54d014a79b447528c55a7',\n",
       " 'pdf_path': 'seed_data/financial_call_transcripts/c47a92e006b54d014a79b447528c55a7.pdf'}"
      ]
     },
     "execution_count": 4,
     "metadata": {},
     "output_type": "execute_result"
    }
   ],
   "source": [
    "seed_data[0]"
   ]
  },
  {
   "cell_type": "code",
   "execution_count": 5,
   "metadata": {},
   "outputs": [],
   "source": [
    "import os\n",
    "from instructlab.sdg.pipeline import Pipeline, PipelineContext\n",
    "from blocks import *\n",
    "\n",
    "ctx = PipelineContext(client=client, model_family=\"llama\", model_id=teacher_model, batch_size=0)\n",
    "skills_pipe = Pipeline.from_file(ctx, os.path.join(os.getcwd(), \"flows/grounded_summary_extraction.yaml\"))"
   ]
  },
  {
   "cell_type": "code",
   "execution_count": 6,
   "metadata": {},
   "outputs": [],
   "source": [
    "seed_data = seed_data.select(range(10))"
   ]
  },
  {
   "cell_type": "code",
   "execution_count": 7,
   "metadata": {},
   "outputs": [
    {
     "data": {
      "text/plain": [
       "Dataset({\n",
       "    features: ['conversation_id', 'pdf_path'],\n",
       "    num_rows: 10\n",
       "})"
      ]
     },
     "execution_count": 7,
     "metadata": {},
     "output_type": "execute_result"
    }
   ],
   "source": [
    "seed_data"
   ]
  },
  {
   "cell_type": "code",
   "execution_count": 8,
   "metadata": {},
   "outputs": [
    {
     "name": "stderr",
     "output_type": "stream",
     "text": [
      "Map:   0%|          | 0/10 [00:00<?, ? examples/s]"
     ]
    },
    {
     "name": "stderr",
     "output_type": "stream",
     "text": [
      "Map: 100%|██████████| 10/10 [00:17<00:00,  1.75s/ examples]\n",
      "Map: 100%|██████████| 10/10 [00:00<00:00, 3113.81 examples/s]\n"
     ]
    }
   ],
   "source": [
    "generated_data = skills_pipe.generate(seed_data)"
   ]
  },
  {
   "cell_type": "code",
   "execution_count": 9,
   "metadata": {},
   "outputs": [
    {
     "data": {
      "text/plain": [
       "{'conversation_id': 'c47a92e006b54d014a79b447528c55a7',\n",
       " 'pdf_path': 'seed_data/financial_call_transcripts/c47a92e006b54d014a79b447528c55a7.pdf',\n",
       " 'conversation': \"## Conversation ID: c47a92e006b54d014a79b447528c55a7\\n\\nGood morning. My name is Natalia, and I will be your conference operator today.\\n\\nAlso, please note that we will discuss certain non-GAAP financial measures in this call. Reconciliations on a GAAP basis for these measures are included in today's press release\\n\\nIn January, we made major progress in completing our transformation into a meaningfully less leveraged and much more focused consumer products company\\n\\nAs the results of these -- as a result of these steps early this year, we are on track to achieve our leverage target of approximately 3.5x at the end of this fiscal year.\\n\\nand we began to see the effects of that late this November. We now must work closely with our retail customers to drive this business forward, despite the recent headwinds in the new housing markets, which, again, we began to see in November.\\n\\nNow if we look at the full year fiscal '19 outlook and you can turn to Slide 8 for that.\\n\\ndelivering operational excellence in our manufacturing facilities and supply chain and providing all of this with exceptional customer service.\\n\\nTo be very blunt, the only thing we saw in the quarter was a little bit of weakness in HHI. So we expect a little bit more sales there.\\n\\nThese statements are based upon management's current expectations, projections and assumptions and are by nature uncertain. Actual results may differ materially.\\n\\nwith materially increased financial strength and flexibility to drive our long-term growth ambitions.\\n\\nAs we have delevered balance sheet, we may look to repurchase our shares under the repurchase agreement in the open market or otherwise from time-to-time.\\n\\nWe still expect a strong performance from HHI this year, driven by strong innovation such as the recent unveiling of a new line of Wi-Fi-enabled Halo Smart Locks at the Consumer Electronics Show just this past January.\\n\\nAs a terrific example of the new thinking about the business, this morning we're excited to announce a major new\\n\\nThis guidance includes the impact of a significant increase in targeted and impactful investments in advertising,\\n\\nBut if I get a new win today, a new listing today, I don't ship it for 6 months in that business. So that'\\n\\nreally where we see kind of the June and September quarter being much stronger in that particular unit.\\n\\nNow due to that risk, Spectrum Brands encourages you to review the risk factors and cautionary statements\\n\\nIf I could have everyone turn to Slide 7, now turning specifically to the quarter. Q1 is traditionally the smallest quarter of our year, and we delivered results that were generally in line with our expectations.\\n\\nAs expected, our home, appliance and personal care business started slowly.\\n\\nmaterial new product development initiatives and marketing to improve both the vitality and the strength of our product offering as we stabilize operations and increase revenue-generating investments in an inflationary environment, including the anticipated impact of tariffs and input cost increases, partially offset by pricing actions.\\n\\nBut look, I would say if there's anything that changed from the last time we spoke till now, and represent major progress to achieve our goal to significantly delever and strengthen our balance sheet,\\n\\nhurricane recovery revenue in retail. It was also driven by 2 significant nonrepeating promotional loadings last year\\n\\nWe're reintegrating this business and we stood the business back up this quarter. We're focused on improving the business fundamentals and we're lapping difficult first half comps. Additionally, we're increasing -- materially increasing investment spend\\n\\nThis is an alliance that we believe will showcase the depth and the strength of our Remington line worldwide and begin the process of further strengthening the amazing brand equity inherent to this business unit.\\n\\nIt's a year we will materially step up investment, spending behind our major brands and the continued alignment of our organizational structure and operating processes to streamline our activities and reduce waste.\\n\\ndiscontinued operations status as well as lower acquisition and integration and restructuring and related costs this year.\\n\\nincreasing the free cash flow going forward by a material amount. We've kind of stayed away from giving free cash this year because we've got so many moving parts, and we're still not done we used cash this part of the year across all of our businesses, as we're investing in inventory for\\n\\nAnd we still think we have a pretty solid year in HHI. Obviously, it's going to take us a couple of quarter to get appliances stood back up and reinvest\",\n",
       " 'question': 'Extract summary, keywords, named entities, and sentiment from the transcript and return in JSON format.\\n',\n",
       " 'summary': 'Spectrum Brands reported Q1 results in line with expectations, driven by progress in its transformation into a more focused consumer products company. The company is on track to achieve its leverage target of approximately 3.5x by the end of the fiscal year, driven by deleveraging efforts and a stronger balance sheet. Management expects a strong performance from its Home and Hardware Innovations segment, despite recent headwinds in the new housing market, and plans to increase investments in advertising and new product development. The company also announced a major new alliance to strengthen its Remington brand worldwide and expects to drive long-term growth with increased financial strength and flexibility. Spectrum Brands anticipates a solid year ahead, with a focus on operational excellence, customer service, and strategic investments to drive growth.',\n",
       " 'keywords': 'Spectrum Brands, deleveraging, GAAP, non-GAAP, fiscal year guidance, HHI, Wi-Fi-enabled Halo Smart Locks, advertising investments, balance sheet strength, free cash flow',\n",
       " 'named_entities': \"organizations:\\n  - Spectrum Brands\\n  - Consumer Electronics Show\\npeople:\\n  - Natalia\\nlocations:\\ndates:\\n  - January\\n  - November\\n  - June\\n  - September\\n  - Q1\\n  - fiscal '19\",\n",
       " 'sentiment': 'Positive'}"
      ]
     },
     "execution_count": 9,
     "metadata": {},
     "output_type": "execute_result"
    }
   ],
   "source": [
    "generated_data[0]"
   ]
  },
  {
   "cell_type": "code",
   "execution_count": 10,
   "metadata": {},
   "outputs": [],
   "source": [
    "import yaml\n",
    "import json\n",
    "\n",
    "def normalize_model_output(model_output: dict) -> dict:\n",
    "    def parse_named_entities(raw_text):\n",
    "        try:\n",
    "            parsed = yaml.safe_load(raw_text)\n",
    "            return {\n",
    "                \"organizations\": parsed.get(\"organizations\", []) if isinstance(parsed, dict) else [],\n",
    "                \"people\": parsed.get(\"people\", []) if isinstance(parsed, dict) else [],\n",
    "                \"locations\": parsed.get(\"locations\", []) if isinstance(parsed, dict) else [],\n",
    "                \"dates\": parsed.get(\"dates\", []) if isinstance(parsed, dict) else [],\n",
    "            }\n",
    "        except Exception:\n",
    "            return {\n",
    "                \"organizations\": None,\n",
    "                \"people\": None,\n",
    "                \"locations\": None,\n",
    "                \"dates\": None,\n",
    "            }\n",
    "\n",
    "    result = {\n",
    "        \"summary\": model_output.get(\"summary\", None),\n",
    "        \"keywords\": None,\n",
    "        \"named_entities\": {\n",
    "            \"organizations\": None,\n",
    "            \"people\": None,\n",
    "            \"locations\": None,\n",
    "            \"dates\": None,\n",
    "        },\n",
    "        \"sentiment\": model_output.get(\"sentiment\", None),\n",
    "    }\n",
    "\n",
    "    # Parse keywords\n",
    "    try:\n",
    "        if isinstance(model_output.get(\"keywords\"), str):\n",
    "            result[\"keywords\"] = [kw.strip() for kw in model_output[\"keywords\"].split(\",\") if kw.strip()]\n",
    "    except Exception:\n",
    "        result[\"keywords\"] = None\n",
    "\n",
    "    # Parse named_entities\n",
    "    result[\"named_entities\"] = parse_named_entities(model_output.get(\"named_entities\", \"\"))\n",
    "\n",
    "    return result"
   ]
  },
  {
   "cell_type": "code",
   "execution_count": 11,
   "metadata": {},
   "outputs": [
    {
     "name": "stdout",
     "output_type": "stream",
     "text": [
      "{\n",
      "  \"summary\": \"Spectrum Brands reported Q1 results in line with expectations...\",\n",
      "  \"keywords\": [\n",
      "    \"Spectrum Brands\",\n",
      "    \"deleveraging\",\n",
      "    \"GAAP\",\n",
      "    \"non-GAAP\",\n",
      "    \"fiscal year guidance\",\n",
      "    \"HHI\",\n",
      "    \"Wi-Fi-enabled Halo Smart Locks\",\n",
      "    \"advertising investments\",\n",
      "    \"balance sheet strength\",\n",
      "    \"free cash flow\"\n",
      "  ],\n",
      "  \"named_entities\": {\n",
      "    \"organizations\": [\n",
      "      \"Spectrum Brands\",\n",
      "      \"Consumer Electronics Show\"\n",
      "    ],\n",
      "    \"people\": [\n",
      "      \"Natalia\"\n",
      "    ],\n",
      "    \"locations\": null,\n",
      "    \"dates\": [\n",
      "      \"January\",\n",
      "      \"November\",\n",
      "      \"June\",\n",
      "      \"September\",\n",
      "      \"Q1\",\n",
      "      \"fiscal '19\"\n",
      "    ]\n",
      "  },\n",
      "  \"sentiment\": \"Positive\"\n",
      "}\n"
     ]
    }
   ],
   "source": [
    "model_output = {\n",
    "    'summary': 'Spectrum Brands reported Q1 results in line with expectations...',\n",
    "    'keywords': 'Spectrum Brands, deleveraging, GAAP, non-GAAP, fiscal year guidance, HHI, Wi-Fi-enabled Halo Smart Locks, advertising investments, balance sheet strength, free cash flow',\n",
    "    'named_entities': \"organizations:\\n  - Spectrum Brands\\n  - Consumer Electronics Show\\npeople:\\n  - Natalia\\nlocations:\\ndates:\\n  - January\\n  - November\\n  - June\\n  - September\\n  - Q1\\n  - fiscal '19\",\n",
    "    'sentiment': 'Positive'\n",
    "}\n",
    "\n",
    "structured_json = normalize_model_output(model_output)\n",
    "print(json.dumps(structured_json, indent=2))"
   ]
  },
  {
   "cell_type": "code",
   "execution_count": null,
   "metadata": {},
   "outputs": [],
   "source": []
  }
 ],
 "metadata": {
  "language_info": {
   "name": "python"
  }
 },
 "nbformat": 4,
 "nbformat_minor": 2
}
